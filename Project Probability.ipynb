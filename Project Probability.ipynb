{
 "cells": [
  {
   "cell_type": "code",
   "execution_count": 1,
   "id": "bc3c5774",
   "metadata": {
    "ExecuteTime": {
     "end_time": "2022-12-18T00:34:40.150068Z",
     "start_time": "2022-12-18T00:34:40.120566Z"
    }
   },
   "outputs": [],
   "source": [
    "import warnings\n",
    "warnings.filterwarnings('ignore')"
   ]
  },
  {
   "cell_type": "code",
   "execution_count": 3,
   "id": "8a401369",
   "metadata": {
    "ExecuteTime": {
     "end_time": "2022-12-18T00:35:35.266591Z",
     "start_time": "2022-12-18T00:35:35.263948Z"
    }
   },
   "outputs": [],
   "source": [
    "import pandas as pd\n",
    "import numpy as np\n",
    "import scipy.stats as stats"
   ]
  },
  {
   "cell_type": "code",
   "execution_count": 4,
   "id": "b84cb8bb",
   "metadata": {
    "ExecuteTime": {
     "end_time": "2022-12-18T00:35:36.360176Z",
     "start_time": "2022-12-18T00:35:36.342548Z"
    }
   },
   "outputs": [],
   "source": [
    "data = pd.read_csv('insurance.csv')"
   ]
  },
  {
   "cell_type": "markdown",
   "id": "9d7167d8",
   "metadata": {},
   "source": [
    "# Analisis Statistik pada Data Asuransi Kesehatan"
   ]
  },
  {
   "cell_type": "markdown",
   "id": "707f3575",
   "metadata": {},
   "source": [
    "## Pendahuluan"
   ]
  },
  {
   "cell_type": "markdown",
   "id": "d3c5db0d",
   "metadata": {},
   "source": [
    "Asuransi kesehatan merupakan sebuah bisnis pengelolaan risiko yang berkaitan dengan kesehatan nasabahnya. Di mana potensi-potensi risiko yang akan dihadapi oleh perusahaan asuransi terkait dengan bergabungnya nasabah harus diperhatikan dan dikelola dengan baik. Penentuan premi yang harus dibayarkan nasabah merupakan tantangan tersendiri bagi perusahaan asuransi, kerena harus memperhitungkan potensi-potensi risiko yang akan dihadapi di masa depan."
   ]
  },
  {
   "cell_type": "markdown",
   "id": "cbfccc73",
   "metadata": {},
   "source": [
    "Pada riset kecil ini penulis mencoba menganalisis faktor-faktor yang memiliki hubungan dengan tagihan kesehatan yang diterima oleh setiap nasabah. Data yang dianalisis merupakan data personal nasabah, seperti: umur, jenis kelamin, BMI, jumlah anak tertanggung asuransi, merokok atau tidak merokoknya nasabah, dan wilayah tempat tinggal nasabah."
   ]
  },
  {
   "cell_type": "markdown",
   "id": "68b653ce",
   "metadata": {},
   "source": [
    "## Analisis Deskriptif"
   ]
  },
  {
   "cell_type": "markdown",
   "id": "496bdad5",
   "metadata": {},
   "source": [
    "Data yang akan digunakan dalam analisis ini adalah sebagai berikut:"
   ]
  },
  {
   "cell_type": "code",
   "execution_count": 5,
   "id": "7f2cabe6",
   "metadata": {
    "ExecuteTime": {
     "end_time": "2022-12-18T00:35:40.234978Z",
     "start_time": "2022-12-18T00:35:40.212802Z"
    }
   },
   "outputs": [
    {
     "data": {
      "text/html": [
       "<div>\n",
       "<style scoped>\n",
       "    .dataframe tbody tr th:only-of-type {\n",
       "        vertical-align: middle;\n",
       "    }\n",
       "\n",
       "    .dataframe tbody tr th {\n",
       "        vertical-align: top;\n",
       "    }\n",
       "\n",
       "    .dataframe thead th {\n",
       "        text-align: right;\n",
       "    }\n",
       "</style>\n",
       "<table border=\"1\" class=\"dataframe\">\n",
       "  <thead>\n",
       "    <tr style=\"text-align: right;\">\n",
       "      <th></th>\n",
       "      <th>age</th>\n",
       "      <th>sex</th>\n",
       "      <th>bmi</th>\n",
       "      <th>children</th>\n",
       "      <th>smoker</th>\n",
       "      <th>region</th>\n",
       "      <th>charges</th>\n",
       "    </tr>\n",
       "  </thead>\n",
       "  <tbody>\n",
       "    <tr>\n",
       "      <th>0</th>\n",
       "      <td>19</td>\n",
       "      <td>female</td>\n",
       "      <td>27.900</td>\n",
       "      <td>0</td>\n",
       "      <td>yes</td>\n",
       "      <td>southwest</td>\n",
       "      <td>16884.92400</td>\n",
       "    </tr>\n",
       "    <tr>\n",
       "      <th>1</th>\n",
       "      <td>18</td>\n",
       "      <td>male</td>\n",
       "      <td>33.770</td>\n",
       "      <td>1</td>\n",
       "      <td>no</td>\n",
       "      <td>southeast</td>\n",
       "      <td>1725.55230</td>\n",
       "    </tr>\n",
       "    <tr>\n",
       "      <th>2</th>\n",
       "      <td>28</td>\n",
       "      <td>male</td>\n",
       "      <td>33.000</td>\n",
       "      <td>3</td>\n",
       "      <td>no</td>\n",
       "      <td>southeast</td>\n",
       "      <td>4449.46200</td>\n",
       "    </tr>\n",
       "    <tr>\n",
       "      <th>3</th>\n",
       "      <td>33</td>\n",
       "      <td>male</td>\n",
       "      <td>22.705</td>\n",
       "      <td>0</td>\n",
       "      <td>no</td>\n",
       "      <td>northwest</td>\n",
       "      <td>21984.47061</td>\n",
       "    </tr>\n",
       "    <tr>\n",
       "      <th>4</th>\n",
       "      <td>32</td>\n",
       "      <td>male</td>\n",
       "      <td>28.880</td>\n",
       "      <td>0</td>\n",
       "      <td>no</td>\n",
       "      <td>northwest</td>\n",
       "      <td>3866.85520</td>\n",
       "    </tr>\n",
       "    <tr>\n",
       "      <th>5</th>\n",
       "      <td>31</td>\n",
       "      <td>female</td>\n",
       "      <td>25.740</td>\n",
       "      <td>0</td>\n",
       "      <td>no</td>\n",
       "      <td>southeast</td>\n",
       "      <td>3756.62160</td>\n",
       "    </tr>\n",
       "    <tr>\n",
       "      <th>6</th>\n",
       "      <td>46</td>\n",
       "      <td>female</td>\n",
       "      <td>33.440</td>\n",
       "      <td>1</td>\n",
       "      <td>no</td>\n",
       "      <td>southeast</td>\n",
       "      <td>8240.58960</td>\n",
       "    </tr>\n",
       "    <tr>\n",
       "      <th>7</th>\n",
       "      <td>37</td>\n",
       "      <td>female</td>\n",
       "      <td>27.740</td>\n",
       "      <td>3</td>\n",
       "      <td>no</td>\n",
       "      <td>northwest</td>\n",
       "      <td>7281.50560</td>\n",
       "    </tr>\n",
       "    <tr>\n",
       "      <th>8</th>\n",
       "      <td>37</td>\n",
       "      <td>male</td>\n",
       "      <td>29.830</td>\n",
       "      <td>2</td>\n",
       "      <td>no</td>\n",
       "      <td>northeast</td>\n",
       "      <td>6406.41070</td>\n",
       "    </tr>\n",
       "    <tr>\n",
       "      <th>9</th>\n",
       "      <td>60</td>\n",
       "      <td>female</td>\n",
       "      <td>25.840</td>\n",
       "      <td>0</td>\n",
       "      <td>no</td>\n",
       "      <td>northwest</td>\n",
       "      <td>28923.13692</td>\n",
       "    </tr>\n",
       "  </tbody>\n",
       "</table>\n",
       "</div>"
      ],
      "text/plain": [
       "   age     sex     bmi  children smoker     region      charges\n",
       "0   19  female  27.900         0    yes  southwest  16884.92400\n",
       "1   18    male  33.770         1     no  southeast   1725.55230\n",
       "2   28    male  33.000         3     no  southeast   4449.46200\n",
       "3   33    male  22.705         0     no  northwest  21984.47061\n",
       "4   32    male  28.880         0     no  northwest   3866.85520\n",
       "5   31  female  25.740         0     no  southeast   3756.62160\n",
       "6   46  female  33.440         1     no  southeast   8240.58960\n",
       "7   37  female  27.740         3     no  northwest   7281.50560\n",
       "8   37    male  29.830         2     no  northeast   6406.41070\n",
       "9   60  female  25.840         0     no  northwest  28923.13692"
      ]
     },
     "execution_count": 5,
     "metadata": {},
     "output_type": "execute_result"
    }
   ],
   "source": [
    "data.head(10)"
   ]
  },
  {
   "cell_type": "markdown",
   "id": "dd6912c5",
   "metadata": {},
   "source": [
    " Data yang akan digunakan sebanyak 1.338 baris data, dengan variabel yang digunakan adalah sebagai berikut:\n",
    "-\tAge : usia pengguna\n",
    "-\tSex : jenis kelamin pengguna\n",
    "-\tBMI : nilai Body Mass Index pengguna\n",
    "-\tChildren : jumlah anak yang ditanggung oleh asuransi\n",
    "-\tSmoker : apakah pengguna merokok atau tidak merokok\n",
    "-\tRegion : wilayah tempat tinggal pengguna\n",
    "-\tCharge : tagihan pengguna\n",
    "\n",
    "Sebelum menganalisis lebih jauh, kita akan menjawab beberapa pertanyaan berikut untuk mengetahui lebih dalam data yang kita gunakan:\n",
    "1.\tRata-rata umur penguna\n",
    "2.\tRata-rata nilai BMI pengguna yang merokok\n",
    "3.\tRata-rata usia pengguna yang merokok\n",
    "4.\tMana yang lebih tinggi, rata rata tagihan kesehatan perokok atau non merokok?\n",
    "5.\tBMI mana yang lebih tinggi, seseorang perokok atau non perokok?"
   ]
  },
  {
   "cell_type": "markdown",
   "id": "5e1bf5f4",
   "metadata": {
    "ExecuteTime": {
     "end_time": "2022-12-04T14:41:47.318552Z",
     "start_time": "2022-12-04T14:41:47.316126Z"
    }
   },
   "source": [
    "##### 1. Rata-rata umur pengguna"
   ]
  },
  {
   "cell_type": "code",
   "execution_count": 6,
   "id": "68e2ac42",
   "metadata": {
    "ExecuteTime": {
     "end_time": "2022-12-18T00:35:41.871474Z",
     "start_time": "2022-12-18T00:35:41.864743Z"
    }
   },
   "outputs": [
    {
     "name": "stdout",
     "output_type": "stream",
     "text": [
      "Rata-rata umur:  39.20702541106129\n",
      "Usia terkecil:  18\n",
      "Usia terbesar:  64\n"
     ]
    }
   ],
   "source": [
    "print('Rata-rata umur: ', data['age'].mean())\n",
    "print('Usia terkecil: ', data['age'].min())\n",
    "print('Usia terbesar: ', data['age'].max())"
   ]
  },
  {
   "cell_type": "markdown",
   "id": "1bcd52ef",
   "metadata": {},
   "source": [
    "Rata-rata umur pengguna adalah 39,21 tahun dengan pengguna usia termuda adalah 18 tahun dan nasabah usia tertua adalah 64 tahun."
   ]
  },
  {
   "cell_type": "markdown",
   "id": "e00b169c",
   "metadata": {
    "ExecuteTime": {
     "end_time": "2022-12-04T14:42:43.536769Z",
     "start_time": "2022-12-04T14:42:43.534230Z"
    }
   },
   "source": [
    "##### 2. Rata-rata nilai BMI pengguna yang merokok"
   ]
  },
  {
   "cell_type": "code",
   "execution_count": 7,
   "id": "7aea6717",
   "metadata": {
    "ExecuteTime": {
     "end_time": "2022-12-18T00:35:43.191685Z",
     "start_time": "2022-12-18T00:35:43.182515Z"
    }
   },
   "outputs": [
    {
     "data": {
      "text/plain": [
       "30.708448905109503"
      ]
     },
     "execution_count": 7,
     "metadata": {},
     "output_type": "execute_result"
    }
   ],
   "source": [
    "data[data['smoker']=='yes']['bmi'].mean()"
   ]
  },
  {
   "cell_type": "markdown",
   "id": "d11e8dd9",
   "metadata": {},
   "source": [
    "Rata-rata nilai BMI pengguna yang merokok adalah 30,71 tahun"
   ]
  },
  {
   "cell_type": "markdown",
   "id": "eb9bb2b6",
   "metadata": {},
   "source": [
    "##### 3. Rata-rata usia pengguna yang merokok"
   ]
  },
  {
   "cell_type": "code",
   "execution_count": 8,
   "id": "f090c97c",
   "metadata": {
    "ExecuteTime": {
     "end_time": "2022-12-18T00:35:44.372701Z",
     "start_time": "2022-12-18T00:35:44.366510Z"
    }
   },
   "outputs": [
    {
     "name": "stdout",
     "output_type": "stream",
     "text": [
      "Rata-rata umur:  38.51459854014598\n",
      "Usia terkecil:  18\n",
      "Usia terbesar:  64\n"
     ]
    }
   ],
   "source": [
    "print('Rata-rata umur: ', data[data['smoker']=='yes']['age'].mean())\n",
    "print('Usia terkecil: ', data[data['smoker']=='yes']['age'].min())\n",
    "print('Usia terbesar: ',data[data['smoker']=='yes']['age'].max())"
   ]
  },
  {
   "cell_type": "markdown",
   "id": "9e61409c",
   "metadata": {},
   "source": [
    "Rata-rata usia pengguna yang merokok adalah 38,52 tahun, dengan usia termuda adalah 18 tahun dan usia tertua adalah 64 tahun."
   ]
  },
  {
   "cell_type": "markdown",
   "id": "8465fd71",
   "metadata": {},
   "source": [
    "##### 4. Mana yang lebih tinggi, rata-rata tagihan kesehatan perokok atau non perokok?"
   ]
  },
  {
   "cell_type": "code",
   "execution_count": 9,
   "id": "58a228dc",
   "metadata": {
    "ExecuteTime": {
     "end_time": "2022-12-18T00:35:45.216987Z",
     "start_time": "2022-12-18T00:35:45.201418Z"
    }
   },
   "outputs": [
    {
     "data": {
      "text/html": [
       "<div>\n",
       "<style scoped>\n",
       "    .dataframe tbody tr th:only-of-type {\n",
       "        vertical-align: middle;\n",
       "    }\n",
       "\n",
       "    .dataframe tbody tr th {\n",
       "        vertical-align: top;\n",
       "    }\n",
       "\n",
       "    .dataframe thead th {\n",
       "        text-align: right;\n",
       "    }\n",
       "</style>\n",
       "<table border=\"1\" class=\"dataframe\">\n",
       "  <thead>\n",
       "    <tr style=\"text-align: right;\">\n",
       "      <th></th>\n",
       "      <th>bmi</th>\n",
       "      <th>charges</th>\n",
       "    </tr>\n",
       "    <tr>\n",
       "      <th>smoker</th>\n",
       "      <th></th>\n",
       "      <th></th>\n",
       "    </tr>\n",
       "  </thead>\n",
       "  <tbody>\n",
       "    <tr>\n",
       "      <th>no</th>\n",
       "      <td>30.651795</td>\n",
       "      <td>8434.268298</td>\n",
       "    </tr>\n",
       "    <tr>\n",
       "      <th>yes</th>\n",
       "      <td>30.708449</td>\n",
       "      <td>32050.231832</td>\n",
       "    </tr>\n",
       "  </tbody>\n",
       "</table>\n",
       "</div>"
      ],
      "text/plain": [
       "              bmi       charges\n",
       "smoker                         \n",
       "no      30.651795   8434.268298\n",
       "yes     30.708449  32050.231832"
      ]
     },
     "execution_count": 9,
     "metadata": {},
     "output_type": "execute_result"
    }
   ],
   "source": [
    "data.groupby('smoker', axis=0).mean()[['bmi','charges']]"
   ]
  },
  {
   "cell_type": "markdown",
   "id": "e1990816",
   "metadata": {},
   "source": [
    "Dari tabel di atas menunjukkan bahwa bahwa rata-rata tagihan kesehatan perokok lebih tinggi dari rata-rata tagihan non perokok, masing-masing sebesar USD 32.050,23 dan USD 8.434,27"
   ]
  },
  {
   "cell_type": "markdown",
   "id": "8edb4a6f",
   "metadata": {},
   "source": [
    "##### 5.\tBMI mana yang lebih tinggi, seseorang perokok atau non perokok?"
   ]
  },
  {
   "cell_type": "markdown",
   "id": "79d7607b",
   "metadata": {},
   "source": [
    "Pada tabel pada pertanyaan 4 di atas terlihat bahwa nilai BMI perokok juga lebih tinggi dari pada nilai BMI non perokok, masing-masing sebesar 30,71 dan 30,65."
   ]
  },
  {
   "cell_type": "markdown",
   "id": "c0e9a74d",
   "metadata": {},
   "source": [
    "## Analisis Variabel Kategorik"
   ]
  },
  {
   "cell_type": "markdown",
   "id": "b67df3a0",
   "metadata": {},
   "source": [
    "Pada bagian ini kita menganalisis variabel-variabel kategorik untuk melihat peluang kondisi tertentu yang berpeluang menyebabkan besarnya tagihan. Pada bagian ini kita akan menjawab beberapa pertanyaan sebagai berikut:\n",
    "1.\tGender mana yang memiliki tagihan paling tinggi?\n",
    "2.\tDistribusi peluang tagihan di tiap-tiap wilayah\n",
    "3.\tApakah setiap wilayah memiliki proporsi data banyak orang yang sama?\n",
    "4.\tMana yang lebih tinggi proporsi perokok atau non perokok?\n",
    "5.\tBerapa peluang seseorang tersebut adalah perempuan diketahui dia adalah perokok?"
   ]
  },
  {
   "cell_type": "markdown",
   "id": "4d3f3661",
   "metadata": {},
   "source": [
    "##### 1.\tGender mana yang memiliki tagihan paling tinggi?"
   ]
  },
  {
   "cell_type": "code",
   "execution_count": 10,
   "id": "e9607ef6",
   "metadata": {
    "ExecuteTime": {
     "end_time": "2022-12-18T00:35:48.637976Z",
     "start_time": "2022-12-18T00:35:48.622577Z"
    }
   },
   "outputs": [
    {
     "data": {
      "text/html": [
       "<div>\n",
       "<style scoped>\n",
       "    .dataframe tbody tr th:only-of-type {\n",
       "        vertical-align: middle;\n",
       "    }\n",
       "\n",
       "    .dataframe tbody tr th {\n",
       "        vertical-align: top;\n",
       "    }\n",
       "\n",
       "    .dataframe thead tr th {\n",
       "        text-align: left;\n",
       "    }\n",
       "\n",
       "    .dataframe thead tr:last-of-type th {\n",
       "        text-align: right;\n",
       "    }\n",
       "</style>\n",
       "<table border=\"1\" class=\"dataframe\">\n",
       "  <thead>\n",
       "    <tr>\n",
       "      <th></th>\n",
       "      <th colspan=\"2\" halign=\"left\">charges</th>\n",
       "    </tr>\n",
       "    <tr>\n",
       "      <th></th>\n",
       "      <th>mean</th>\n",
       "      <th>max</th>\n",
       "    </tr>\n",
       "    <tr>\n",
       "      <th>sex</th>\n",
       "      <th></th>\n",
       "      <th></th>\n",
       "    </tr>\n",
       "  </thead>\n",
       "  <tbody>\n",
       "    <tr>\n",
       "      <th>female</th>\n",
       "      <td>12569.578844</td>\n",
       "      <td>63770.42801</td>\n",
       "    </tr>\n",
       "    <tr>\n",
       "      <th>male</th>\n",
       "      <td>13956.751178</td>\n",
       "      <td>62592.87309</td>\n",
       "    </tr>\n",
       "  </tbody>\n",
       "</table>\n",
       "</div>"
      ],
      "text/plain": [
       "             charges             \n",
       "                mean          max\n",
       "sex                              \n",
       "female  12569.578844  63770.42801\n",
       "male    13956.751178  62592.87309"
      ]
     },
     "execution_count": 10,
     "metadata": {},
     "output_type": "execute_result"
    }
   ],
   "source": [
    "data.groupby('sex', axis=0)[['charges']].aggregate(['mean', 'max'])"
   ]
  },
  {
   "cell_type": "markdown",
   "id": "75d55b93",
   "metadata": {},
   "source": [
    "Pada tabel di atas menunjukkan bahwa pengguna laki-laki memiliki rata-rata biaya lebih tinggi dari pengguna perempuan. Namun, pengguna perempuan memiliki nilai maksimum klaim lebih tinggi dari pengguna laki-laki."
   ]
  },
  {
   "cell_type": "markdown",
   "id": "e0842638",
   "metadata": {},
   "source": [
    "##### 2.\tDistribusi peluang tagihan di tiap-tiap wilayah"
   ]
  },
  {
   "cell_type": "code",
   "execution_count": 11,
   "id": "9faa3aee",
   "metadata": {
    "ExecuteTime": {
     "end_time": "2022-12-18T00:35:50.665100Z",
     "start_time": "2022-12-18T00:35:50.655131Z"
    }
   },
   "outputs": [
    {
     "data": {
      "text/html": [
       "<div>\n",
       "<style scoped>\n",
       "    .dataframe tbody tr th:only-of-type {\n",
       "        vertical-align: middle;\n",
       "    }\n",
       "\n",
       "    .dataframe tbody tr th {\n",
       "        vertical-align: top;\n",
       "    }\n",
       "\n",
       "    .dataframe thead th {\n",
       "        text-align: right;\n",
       "    }\n",
       "</style>\n",
       "<table border=\"1\" class=\"dataframe\">\n",
       "  <thead>\n",
       "    <tr style=\"text-align: right;\">\n",
       "      <th></th>\n",
       "      <th>count</th>\n",
       "      <th>peluang</th>\n",
       "    </tr>\n",
       "    <tr>\n",
       "      <th>region</th>\n",
       "      <th></th>\n",
       "      <th></th>\n",
       "    </tr>\n",
       "  </thead>\n",
       "  <tbody>\n",
       "    <tr>\n",
       "      <th>northeast</th>\n",
       "      <td>324</td>\n",
       "      <td>0.242152</td>\n",
       "    </tr>\n",
       "    <tr>\n",
       "      <th>northwest</th>\n",
       "      <td>325</td>\n",
       "      <td>0.242900</td>\n",
       "    </tr>\n",
       "    <tr>\n",
       "      <th>southeast</th>\n",
       "      <td>364</td>\n",
       "      <td>0.272048</td>\n",
       "    </tr>\n",
       "    <tr>\n",
       "      <th>southwest</th>\n",
       "      <td>325</td>\n",
       "      <td>0.242900</td>\n",
       "    </tr>\n",
       "  </tbody>\n",
       "</table>\n",
       "</div>"
      ],
      "text/plain": [
       "           count   peluang\n",
       "region                    \n",
       "northeast    324  0.242152\n",
       "northwest    325  0.242900\n",
       "southeast    364  0.272048\n",
       "southwest    325  0.242900"
      ]
     },
     "execution_count": 11,
     "metadata": {},
     "output_type": "execute_result"
    }
   ],
   "source": [
    "df = data.groupby('region', axis=0)['age'].aggregate(['count'])\n",
    "df['peluang'] = df.transform(lambda x: x/x.sum())\n",
    "df"
   ]
  },
  {
   "cell_type": "markdown",
   "id": "49611789",
   "metadata": {},
   "source": [
    "Pada tabel di atas menunjukkan bahwa Southeast memiliki peluang lebih tinggi dari pada wilayah lain, yaitu: 0,27 di mana peluang tagihan di wilayah lain masing-masing relatif sama, yaitu sebesar 0,24."
   ]
  },
  {
   "cell_type": "markdown",
   "id": "407689f1",
   "metadata": {},
   "source": [
    "##### 3.\tApakah setiap wilayah memiliki proporsi data banyak orang yang sama?"
   ]
  },
  {
   "cell_type": "markdown",
   "id": "969ec43c",
   "metadata": {
    "ExecuteTime": {
     "end_time": "2022-12-04T15:20:29.633200Z",
     "start_time": "2022-12-04T15:20:29.599526Z"
    }
   },
   "source": [
    "Masing-masing wilayah memiliki proporsi data jumlah orang yang berbeda, Southeast merupakan wilayah dengan jumlah data tertinggi, yaitu: 364 data dan Northeast adalah wilayah dengan proporsi jumlah data terkecil, yaitu: 324 data."
   ]
  },
  {
   "cell_type": "markdown",
   "id": "8de7664d",
   "metadata": {},
   "source": [
    "##### 4.\tMana yang lebih tinggi proporsi perokok atau non perokok?"
   ]
  },
  {
   "cell_type": "code",
   "execution_count": 12,
   "id": "994d28b4",
   "metadata": {
    "ExecuteTime": {
     "end_time": "2022-12-18T00:35:53.080074Z",
     "start_time": "2022-12-18T00:35:53.071128Z"
    }
   },
   "outputs": [
    {
     "data": {
      "text/html": [
       "<div>\n",
       "<style scoped>\n",
       "    .dataframe tbody tr th:only-of-type {\n",
       "        vertical-align: middle;\n",
       "    }\n",
       "\n",
       "    .dataframe tbody tr th {\n",
       "        vertical-align: top;\n",
       "    }\n",
       "\n",
       "    .dataframe thead th {\n",
       "        text-align: right;\n",
       "    }\n",
       "</style>\n",
       "<table border=\"1\" class=\"dataframe\">\n",
       "  <thead>\n",
       "    <tr style=\"text-align: right;\">\n",
       "      <th></th>\n",
       "      <th>count</th>\n",
       "      <th>proporsi</th>\n",
       "    </tr>\n",
       "    <tr>\n",
       "      <th>smoker</th>\n",
       "      <th></th>\n",
       "      <th></th>\n",
       "    </tr>\n",
       "  </thead>\n",
       "  <tbody>\n",
       "    <tr>\n",
       "      <th>no</th>\n",
       "      <td>1064</td>\n",
       "      <td>0.795217</td>\n",
       "    </tr>\n",
       "    <tr>\n",
       "      <th>yes</th>\n",
       "      <td>274</td>\n",
       "      <td>0.204783</td>\n",
       "    </tr>\n",
       "  </tbody>\n",
       "</table>\n",
       "</div>"
      ],
      "text/plain": [
       "        count  proporsi\n",
       "smoker                 \n",
       "no       1064  0.795217\n",
       "yes       274  0.204783"
      ]
     },
     "execution_count": 12,
     "metadata": {},
     "output_type": "execute_result"
    }
   ],
   "source": [
    "df = data.groupby('smoker', axis=0)['age'].aggregate(['count'])\n",
    "df['proporsi'] = df.transform(lambda x: x/x.sum())\n",
    "df"
   ]
  },
  {
   "cell_type": "markdown",
   "id": "9abdb579",
   "metadata": {},
   "source": [
    "Pada tabel di atas menunjukkan bahwa non perokok memiliki proporsi lebih tinggi dari perokok."
   ]
  },
  {
   "cell_type": "markdown",
   "id": "c32d6b16",
   "metadata": {},
   "source": [
    "##### 5.\tBerapa peluang seseorang tersebut adalah perempuan diketahui dia adalah perokok?"
   ]
  },
  {
   "cell_type": "code",
   "execution_count": 13,
   "id": "8f15de1c",
   "metadata": {
    "ExecuteTime": {
     "end_time": "2022-12-18T00:35:54.688832Z",
     "start_time": "2022-12-18T00:35:54.679176Z"
    }
   },
   "outputs": [
    {
     "data": {
      "text/html": [
       "<div>\n",
       "<style scoped>\n",
       "    .dataframe tbody tr th:only-of-type {\n",
       "        vertical-align: middle;\n",
       "    }\n",
       "\n",
       "    .dataframe tbody tr th {\n",
       "        vertical-align: top;\n",
       "    }\n",
       "\n",
       "    .dataframe thead th {\n",
       "        text-align: right;\n",
       "    }\n",
       "</style>\n",
       "<table border=\"1\" class=\"dataframe\">\n",
       "  <thead>\n",
       "    <tr style=\"text-align: right;\">\n",
       "      <th></th>\n",
       "      <th>count</th>\n",
       "      <th>peluang</th>\n",
       "    </tr>\n",
       "    <tr>\n",
       "      <th>sex</th>\n",
       "      <th></th>\n",
       "      <th></th>\n",
       "    </tr>\n",
       "  </thead>\n",
       "  <tbody>\n",
       "    <tr>\n",
       "      <th>female</th>\n",
       "      <td>115</td>\n",
       "      <td>0.419708</td>\n",
       "    </tr>\n",
       "    <tr>\n",
       "      <th>male</th>\n",
       "      <td>159</td>\n",
       "      <td>0.580292</td>\n",
       "    </tr>\n",
       "  </tbody>\n",
       "</table>\n",
       "</div>"
      ],
      "text/plain": [
       "        count   peluang\n",
       "sex                    \n",
       "female    115  0.419708\n",
       "male      159  0.580292"
      ]
     },
     "execution_count": 13,
     "metadata": {},
     "output_type": "execute_result"
    }
   ],
   "source": [
    "df = data[data['smoker']=='yes'].groupby('sex', axis=0)['age'].aggregate(['count'])\n",
    "df['peluang'] = df.transform(lambda x: x/x.sum())\n",
    "df"
   ]
  },
  {
   "cell_type": "markdown",
   "id": "12dd11ee",
   "metadata": {},
   "source": [
    "Pada di atas, menunjukkan bahwa peluang seseorang adalah perempuan jika diketahui dia adalah perokok adalah sebesar 0,42."
   ]
  },
  {
   "cell_type": "markdown",
   "id": "8e6b6394",
   "metadata": {},
   "source": [
    "## Kesimpulan Analisis Variabel Kategorik"
   ]
  },
  {
   "cell_type": "markdown",
   "id": "16f06326",
   "metadata": {},
   "source": [
    "Dari analisis variabel kategorik di atas kita dapat mengambil kesimpulan bahwa laki-laki memiliki rata-rata biaya tagihan terbesar dibanding perempuan. Kita juga menemukan fakta mengejutkan bahwa proporsi pengguna non perokok lebih besar dari pengguna merokok yaitu sebesar 0,8. Hal ini disebabkan kemungkinan adanya skrining awal pada waktu pembelian produk asuransi di mana perokok yang ingin membeli produk asuransi kesehatan teriliminasi pada waktu skrining awal. "
   ]
  },
  {
   "cell_type": "markdown",
   "id": "e4004738",
   "metadata": {},
   "source": [
    "## Analisa Variabel Kontinu"
   ]
  },
  {
   "cell_type": "markdown",
   "id": "f3e72ffc",
   "metadata": {},
   "source": [
    "Pada bagian ini kita menganalisis variabel-variabel kontinu untuk melihat variabel kontinu yang berpeluang menyebabkan besarnya tagihan. Pada bagian ini kita akan menjawab beberapa pertanyaan sebagai berikut:\n",
    "1.\tMana yang lebih mungkin terjadi\n",
    "- Seseorang dengan BMI di atas 25 mendapatkan tagihan kesehatan di atas 16.7k, atau\n",
    "- Seseorang dengan BMI di bawah 25 mendapatkan tagihan kesehatan di atas 16.7k\n",
    "2.\tMana yang lebih mungkin terjadi\n",
    "- Seseorang perokok dengan BMI di atas 25 mendapatkan tagihan kesehatan di atas 16.7k, atau\n",
    "- Seseorang non perokok dengan BMI di atas 25 mendapatkan tagihan kesehatan di atas 16.7k"
   ]
  },
  {
   "cell_type": "markdown",
   "id": "56be4d68",
   "metadata": {},
   "source": [
    "##### 1.\tMana yang lebih mungkin terjadi\n",
    "###### - Seseorang dengan BMI di atas 25 mendapatkan tagihan kesehatan di atas 16.7k, atau\n",
    "###### - Seseorang dengan BMI di bawah 25 mendapatkan tagihan kesehatan di atas 16.7k\n"
   ]
  },
  {
   "cell_type": "code",
   "execution_count": 14,
   "id": "42b05761",
   "metadata": {
    "ExecuteTime": {
     "end_time": "2022-12-18T00:35:59.155142Z",
     "start_time": "2022-12-18T00:35:58.655571Z"
    }
   },
   "outputs": [
    {
     "data": {
      "text/html": [
       "<div>\n",
       "<style scoped>\n",
       "    .dataframe tbody tr th:only-of-type {\n",
       "        vertical-align: middle;\n",
       "    }\n",
       "\n",
       "    .dataframe tbody tr th {\n",
       "        vertical-align: top;\n",
       "    }\n",
       "\n",
       "    .dataframe thead th {\n",
       "        text-align: right;\n",
       "    }\n",
       "</style>\n",
       "<table border=\"1\" class=\"dataframe\">\n",
       "  <thead>\n",
       "    <tr style=\"text-align: right;\">\n",
       "      <th></th>\n",
       "      <th>count</th>\n",
       "      <th>peluang</th>\n",
       "    </tr>\n",
       "    <tr>\n",
       "      <th>charges_group</th>\n",
       "      <th></th>\n",
       "      <th></th>\n",
       "    </tr>\n",
       "  </thead>\n",
       "  <tbody>\n",
       "    <tr>\n",
       "      <th>&lt;=16.7K</th>\n",
       "      <td>808</td>\n",
       "      <td>0.740605</td>\n",
       "    </tr>\n",
       "    <tr>\n",
       "      <th>&gt;16.7K</th>\n",
       "      <td>283</td>\n",
       "      <td>0.259395</td>\n",
       "    </tr>\n",
       "  </tbody>\n",
       "</table>\n",
       "</div>"
      ],
      "text/plain": [
       "               count   peluang\n",
       "charges_group                 \n",
       "<=16.7K          808  0.740605\n",
       ">16.7K           283  0.259395"
      ]
     },
     "execution_count": 14,
     "metadata": {},
     "output_type": "execute_result"
    }
   ],
   "source": [
    "## BMI di atas 25\n",
    "df = data[data['bmi']>25]\n",
    "df['charges_group'] = df['charges'].transform(lambda x : '>16.7K' if x > 16700 else '<=16.7K')\n",
    "df = df.groupby('charges_group', axis=0)['age'].aggregate(['count'])\n",
    "df['peluang'] = df.transform(lambda x: x/x.sum())\n",
    "df"
   ]
  },
  {
   "cell_type": "code",
   "execution_count": 15,
   "id": "211e3aea",
   "metadata": {
    "ExecuteTime": {
     "end_time": "2022-12-18T00:36:01.713632Z",
     "start_time": "2022-12-18T00:36:01.692413Z"
    }
   },
   "outputs": [
    {
     "data": {
      "text/html": [
       "<div>\n",
       "<style scoped>\n",
       "    .dataframe tbody tr th:only-of-type {\n",
       "        vertical-align: middle;\n",
       "    }\n",
       "\n",
       "    .dataframe tbody tr th {\n",
       "        vertical-align: top;\n",
       "    }\n",
       "\n",
       "    .dataframe thead th {\n",
       "        text-align: right;\n",
       "    }\n",
       "</style>\n",
       "<table border=\"1\" class=\"dataframe\">\n",
       "  <thead>\n",
       "    <tr style=\"text-align: right;\">\n",
       "      <th></th>\n",
       "      <th>count</th>\n",
       "      <th>peluang</th>\n",
       "    </tr>\n",
       "    <tr>\n",
       "      <th>charges_group</th>\n",
       "      <th></th>\n",
       "      <th></th>\n",
       "    </tr>\n",
       "  </thead>\n",
       "  <tbody>\n",
       "    <tr>\n",
       "      <th>&lt;=16.7K</th>\n",
       "      <td>196</td>\n",
       "      <td>0.793522</td>\n",
       "    </tr>\n",
       "    <tr>\n",
       "      <th>&gt;16.7K</th>\n",
       "      <td>51</td>\n",
       "      <td>0.206478</td>\n",
       "    </tr>\n",
       "  </tbody>\n",
       "</table>\n",
       "</div>"
      ],
      "text/plain": [
       "               count   peluang\n",
       "charges_group                 \n",
       "<=16.7K          196  0.793522\n",
       ">16.7K            51  0.206478"
      ]
     },
     "execution_count": 15,
     "metadata": {},
     "output_type": "execute_result"
    }
   ],
   "source": [
    "## BMI di bawah 25\n",
    "df = data[data['bmi']<=25]\n",
    "df['charges_group'] = df['charges'].transform(lambda x : '>16.7K' if x > 16700 else '<=16.7K')\n",
    "df = df.groupby('charges_group', axis=0)['age'].aggregate(['count'])\n",
    "df['peluang'] = df.transform(lambda x: x/x.sum())\n",
    "df"
   ]
  },
  {
   "cell_type": "markdown",
   "id": "64b7b238",
   "metadata": {},
   "source": [
    "Peluang seseorang dengan BMI di atas 25 mendapatkan tagihan kesehatan di atas 16.7K adalah: 0,26. Peluang seseorang dengan BMI di bawah 25 mendapatkan tagihan kesehatan di atas 16.7K adalah: 0,21. Sehingga dapat dikatakan bahwa seseorang yang memiliki BMI di atas 25 lebih berpeluang mendapatkan tagihan di atas 16.7K dibandingkan dengan seseorang yang memiliki BMI di bawah 25."
   ]
  },
  {
   "cell_type": "markdown",
   "id": "ec2903a8",
   "metadata": {},
   "source": [
    "##### 2.\tMana yang lebih mungkin terjadi\n",
    "###### - Seseorang perokok dengan BMI di atas 25 mendapatkan tagihan kesehatan di atas 16.7k, atau\n",
    "###### - Seseorang non perokok dengan BMI di atas 25 mendapatkan tagihan kesehatan di atas 16.7k"
   ]
  },
  {
   "cell_type": "code",
   "execution_count": 16,
   "id": "7e94c8c4",
   "metadata": {
    "ExecuteTime": {
     "end_time": "2022-12-18T00:36:03.938560Z",
     "start_time": "2022-12-18T00:36:03.916633Z"
    }
   },
   "outputs": [
    {
     "data": {
      "text/html": [
       "<div>\n",
       "<style scoped>\n",
       "    .dataframe tbody tr th:only-of-type {\n",
       "        vertical-align: middle;\n",
       "    }\n",
       "\n",
       "    .dataframe tbody tr th {\n",
       "        vertical-align: top;\n",
       "    }\n",
       "\n",
       "    .dataframe thead th {\n",
       "        text-align: right;\n",
       "    }\n",
       "</style>\n",
       "<table border=\"1\" class=\"dataframe\">\n",
       "  <thead>\n",
       "    <tr style=\"text-align: right;\">\n",
       "      <th></th>\n",
       "      <th>count</th>\n",
       "      <th>peluang</th>\n",
       "    </tr>\n",
       "    <tr>\n",
       "      <th>charges_group</th>\n",
       "      <th></th>\n",
       "      <th></th>\n",
       "    </tr>\n",
       "  </thead>\n",
       "  <tbody>\n",
       "    <tr>\n",
       "      <th>&lt;=16.7K</th>\n",
       "      <td>4</td>\n",
       "      <td>0.018265</td>\n",
       "    </tr>\n",
       "    <tr>\n",
       "      <th>&gt;16.7K</th>\n",
       "      <td>215</td>\n",
       "      <td>0.981735</td>\n",
       "    </tr>\n",
       "  </tbody>\n",
       "</table>\n",
       "</div>"
      ],
      "text/plain": [
       "               count   peluang\n",
       "charges_group                 \n",
       "<=16.7K            4  0.018265\n",
       ">16.7K           215  0.981735"
      ]
     },
     "execution_count": 16,
     "metadata": {},
     "output_type": "execute_result"
    }
   ],
   "source": [
    "## Perokok dengan BMI di atas 25\n",
    "df = data[(data['bmi']>25) & (data['smoker']=='yes')]\n",
    "df['charges_group'] = df['charges'].transform(lambda x : '>16.7K' if x > 16700 else '<=16.7K')\n",
    "df = df.groupby('charges_group', axis=0)['age'].aggregate(['count'])\n",
    "df['peluang'] = df.transform(lambda x: x/x.sum())\n",
    "df"
   ]
  },
  {
   "cell_type": "markdown",
   "id": "3b23000f",
   "metadata": {},
   "source": [
    "Peluang seorang perokok dengan BMI di atas 25 mendapatkan tagihan kesehatan di atas 16.7K adalah: 0,98. Peluang seorang non perokok dengan BMI di atas 25 mendapatkan tagihan kesehatan di atas 16.7K adalah: 0,02. Sehingga dapat dikatakan bahwa seorang perokok yang memiliki BMI di atas 25 lebih berpeluang mendapatkan tagihan di atas 16.7K dibandingkan dengan seorang non perokok yang memiliki BMI di atas 25."
   ]
  },
  {
   "cell_type": "markdown",
   "id": "ff0b4567",
   "metadata": {},
   "source": [
    "## Kesimpulan Analisis Variabel Kontinu"
   ]
  },
  {
   "cell_type": "markdown",
   "id": "9d258d88",
   "metadata": {},
   "source": [
    "Dari analisis di atas dapat disimpulkan bahwa seseorang yang memiliki BMI di atas 25 (berat badan berlebih) berpeluang akan mendapatkan tagihan kesehatan yang besar (di atas 16.7K). Risiko ini semakin besar terjadi pada perokok yang memiliki BMI di atas 25. Sehingga pihak asuransi harus menaruh perhatian lebih kepada nasabah  atau calon nasabah perokok yang memiliki BMI di atas 25."
   ]
  },
  {
   "cell_type": "markdown",
   "id": "f7fb7d34",
   "metadata": {},
   "source": [
    "## Analisis Korelasi Variabel"
   ]
  },
  {
   "cell_type": "markdown",
   "id": "21cbc9a1",
   "metadata": {},
   "source": [
    "Analisis korelasi dilakukan untuk menggambarkan hubungan linear antara 2 (dua) variabel. Hubungan tersebut dikuantifikasi oleh koefisien korelasi yang menggambarkan kekuatan hubungan antara variabel dan arah hubungan."
   ]
  },
  {
   "cell_type": "code",
   "execution_count": 17,
   "id": "d5ffce3c",
   "metadata": {
    "ExecuteTime": {
     "end_time": "2022-12-18T00:36:06.541487Z",
     "start_time": "2022-12-18T00:36:06.531805Z"
    }
   },
   "outputs": [
    {
     "data": {
      "text/html": [
       "<div>\n",
       "<style scoped>\n",
       "    .dataframe tbody tr th:only-of-type {\n",
       "        vertical-align: middle;\n",
       "    }\n",
       "\n",
       "    .dataframe tbody tr th {\n",
       "        vertical-align: top;\n",
       "    }\n",
       "\n",
       "    .dataframe thead th {\n",
       "        text-align: right;\n",
       "    }\n",
       "</style>\n",
       "<table border=\"1\" class=\"dataframe\">\n",
       "  <thead>\n",
       "    <tr style=\"text-align: right;\">\n",
       "      <th></th>\n",
       "      <th>age</th>\n",
       "      <th>bmi</th>\n",
       "      <th>children</th>\n",
       "      <th>charges</th>\n",
       "    </tr>\n",
       "  </thead>\n",
       "  <tbody>\n",
       "    <tr>\n",
       "      <th>age</th>\n",
       "      <td>1.000000</td>\n",
       "      <td>0.109272</td>\n",
       "      <td>0.042469</td>\n",
       "      <td>0.299008</td>\n",
       "    </tr>\n",
       "    <tr>\n",
       "      <th>bmi</th>\n",
       "      <td>0.109272</td>\n",
       "      <td>1.000000</td>\n",
       "      <td>0.012759</td>\n",
       "      <td>0.198341</td>\n",
       "    </tr>\n",
       "    <tr>\n",
       "      <th>children</th>\n",
       "      <td>0.042469</td>\n",
       "      <td>0.012759</td>\n",
       "      <td>1.000000</td>\n",
       "      <td>0.067998</td>\n",
       "    </tr>\n",
       "    <tr>\n",
       "      <th>charges</th>\n",
       "      <td>0.299008</td>\n",
       "      <td>0.198341</td>\n",
       "      <td>0.067998</td>\n",
       "      <td>1.000000</td>\n",
       "    </tr>\n",
       "  </tbody>\n",
       "</table>\n",
       "</div>"
      ],
      "text/plain": [
       "               age       bmi  children   charges\n",
       "age       1.000000  0.109272  0.042469  0.299008\n",
       "bmi       0.109272  1.000000  0.012759  0.198341\n",
       "children  0.042469  0.012759  1.000000  0.067998\n",
       "charges   0.299008  0.198341  0.067998  1.000000"
      ]
     },
     "execution_count": 17,
     "metadata": {},
     "output_type": "execute_result"
    }
   ],
   "source": [
    "data[['age','bmi','children','charges']].corr()"
   ]
  },
  {
   "cell_type": "markdown",
   "id": "c6482fce",
   "metadata": {
    "ExecuteTime": {
     "end_time": "2022-12-04T16:21:42.230025Z",
     "start_time": "2022-12-04T16:21:42.218267Z"
    }
   },
   "source": [
    "Pada tabel di atas menunjukkan korelasi antara variabel charges dengan variabel age, bmi, dan children. Dari tabel di atas dapat diambil kesimpulan sebagai berikut:\n",
    "-\tVariabel age memiliki korelasi lemah dan positif terhadap variabel charges\n",
    "-\tVariabel bmi memiliki korelasi lemah dan positif terhadap variabel charges\n",
    "-\tVariabel children memiliki korelasi lemah dan positif terhadap variabel charges"
   ]
  },
  {
   "cell_type": "markdown",
   "id": "4289c9b8",
   "metadata": {},
   "source": [
    "## Pengujian Hipotesis"
   ]
  },
  {
   "cell_type": "markdown",
   "id": "0a7a21c5",
   "metadata": {},
   "source": [
    "Pada bagian ini kita akan melakukan pengujian hipotesis untuk melihat apakah terdapat bukti statistik yang cukup terhadap hipotesa tentang tagihan kesehatan. Hipotesa yang akan kita uji adalah:\n",
    "1. Tagihan kesehatan perokok lebih tinggi daripada tagihan kesehatan non perokok\n",
    "2. Tagihan kesehatan dengan BMI di atas 25 lebih tinggi daripada tagihan kesehatan dengan BMI di bawah 25\n",
    "3. Tagihan kesehatan laki-laki lebih besar dari perempuan"
   ]
  },
  {
   "cell_type": "markdown",
   "id": "fcd1cc86",
   "metadata": {},
   "source": [
    "##### 1. Tagihan kesehatan perokok lebih tinggi daripada tagihan kesehatan non perokok"
   ]
  },
  {
   "cell_type": "code",
   "execution_count": 18,
   "id": "08a15a7f",
   "metadata": {
    "ExecuteTime": {
     "end_time": "2022-12-18T00:36:08.654085Z",
     "start_time": "2022-12-18T00:36:08.643885Z"
    }
   },
   "outputs": [
    {
     "name": "stdout",
     "output_type": "stream",
     "text": [
      "Statistik:  46.66492117272371\n",
      "p-value:  8.271435842179102e-283\n"
     ]
    }
   ],
   "source": [
    "alpha = 0.05\n",
    "H0 = \"Tagihan kesehatan perokok dan non perokok adalah sama\"\n",
    "H1 = \"Tagihan kesehatan perokok lebih tinggi dari non perokok\"\n",
    "\n",
    "stat, p = stats.ttest_ind(data[data['smoker']=='yes']['charges'], data[data['smoker']=='no']['charges'])\n",
    "print('Statistik: ', stat)\n",
    "print('p-value: ', p)"
   ]
  },
  {
   "cell_type": "code",
   "execution_count": 19,
   "id": "5328977e",
   "metadata": {
    "ExecuteTime": {
     "end_time": "2022-12-18T00:36:09.876384Z",
     "start_time": "2022-12-18T00:36:09.872761Z"
    }
   },
   "outputs": [
    {
     "name": "stdout",
     "output_type": "stream",
     "text": [
      "H0 ditolak H1 diterima, yaitu:  Tagihan kesehatan perokok lebih tinggi dari non perokok\n"
     ]
    }
   ],
   "source": [
    "# Pengambilan keputusan\n",
    "if p>alpha:\n",
    "    print(\"HO diterima, yaitu: \", H0)\n",
    "else:\n",
    "    print(\"H0 ditolak H1 diterima, yaitu: \", H1)"
   ]
  },
  {
   "cell_type": "markdown",
   "id": "bfc5eb2b",
   "metadata": {},
   "source": [
    "Dari uji hipotesa di atas disimpulkan bahwa secara statistik, tagihan kesehatan perokok lebih tinggi dari tagihan kesehatan non perokok."
   ]
  },
  {
   "cell_type": "markdown",
   "id": "afef6d91",
   "metadata": {},
   "source": [
    "##### 2. Tagihan kesehatan dengan BMI di atas 25 lebih tinggi daripada tagihan kesehatan dengan BMI di bawah 25"
   ]
  },
  {
   "cell_type": "code",
   "execution_count": 20,
   "id": "921c1e2e",
   "metadata": {
    "ExecuteTime": {
     "end_time": "2022-12-18T00:36:10.972629Z",
     "start_time": "2022-12-18T00:36:10.967150Z"
    }
   },
   "outputs": [
    {
     "name": "stdout",
     "output_type": "stream",
     "text": [
      "Statistik:  4.319946909530397\n",
      "p-value:  1.6761321969419405e-05\n"
     ]
    }
   ],
   "source": [
    "H0 = \"Tagihan kesehatan dengan BMI di atas 25 dan tagihan kesehatan dengan BMI di bawah 25 adalah sama\"\n",
    "H1 = \"Tagihan kesehatan dengan BMI di atas 25 lebih tinggi daripada tagihan kesehatan dengan BMI di bawah 25\"\n",
    "\n",
    "stat, p = stats.ttest_ind(data[data['bmi']>25]['charges'], data[data['bmi']<=25]['charges'])\n",
    "print('Statistik: ', stat)\n",
    "print('p-value: ', p)"
   ]
  },
  {
   "cell_type": "code",
   "execution_count": 21,
   "id": "e3c46ad7",
   "metadata": {
    "ExecuteTime": {
     "end_time": "2022-12-18T00:36:11.555178Z",
     "start_time": "2022-12-18T00:36:11.551408Z"
    }
   },
   "outputs": [
    {
     "name": "stdout",
     "output_type": "stream",
     "text": [
      "H0 ditolak H1 diterima, yaitu:  Tagihan kesehatan dengan BMI di atas 25 lebih tinggi daripada tagihan kesehatan dengan BMI di bawah 25\n"
     ]
    }
   ],
   "source": [
    "# Pengambilan keputusan\n",
    "if p>alpha:\n",
    "    print(\"HO diterima, yaitu: \", H0)\n",
    "else:\n",
    "    print(\"H0 ditolak H1 diterima, yaitu: \", H1)"
   ]
  },
  {
   "cell_type": "markdown",
   "id": "c34304b0",
   "metadata": {},
   "source": [
    "Dari uji hipotesa di atas disimpulkan bahwa secara statistik, tagihan kesehatan dengan BMI di atas 25 lebih tinggi daripada tagihan kesehatan dengan BMI di bawah 25."
   ]
  },
  {
   "cell_type": "markdown",
   "id": "ff819c13",
   "metadata": {},
   "source": [
    "##### 3. Tagihan kesehatan laki-laki lebih besar dari perempuan"
   ]
  },
  {
   "cell_type": "code",
   "execution_count": 22,
   "id": "54c2a7dc",
   "metadata": {
    "ExecuteTime": {
     "end_time": "2022-12-18T00:36:13.341682Z",
     "start_time": "2022-12-18T00:36:13.335684Z"
    }
   },
   "outputs": [
    {
     "name": "stdout",
     "output_type": "stream",
     "text": [
      "Statistik:  2.097546590051688\n",
      "p-value:  0.03613272100592976\n"
     ]
    }
   ],
   "source": [
    "H0 = \"Tagihan kesehatan laki-laki dan perempuan adalah sama\"\n",
    "H1 = \"Tagihan kesehatan laki-laki lebih besar dari tagihan kesehatan perempuan\"\n",
    "\n",
    "stat, p = stats.ttest_ind(data[data['sex']=='male']['charges'], data[data['sex']=='female']['charges'])\n",
    "print('Statistik: ', stat)\n",
    "print('p-value: ', p)"
   ]
  },
  {
   "cell_type": "code",
   "execution_count": 23,
   "id": "dcc3ead1",
   "metadata": {
    "ExecuteTime": {
     "end_time": "2022-12-18T00:36:13.915229Z",
     "start_time": "2022-12-18T00:36:13.912031Z"
    }
   },
   "outputs": [
    {
     "name": "stdout",
     "output_type": "stream",
     "text": [
      "H0 ditolak H1 diterima, yaitu:  Tagihan kesehatan laki-laki lebih besar dari tagihan kesehatan perempuan\n"
     ]
    }
   ],
   "source": [
    "if p>alpha:\n",
    "    print(\"HO diterima, yaitu: \", H0)\n",
    "else:\n",
    "    print(\"H0 ditolak H1 diterima, yaitu: \", H1)"
   ]
  },
  {
   "cell_type": "markdown",
   "id": "2a62ded0",
   "metadata": {},
   "source": [
    "Dari uji hipotesa di atas disimpulkan bahwa secara statistik, tagihan kesehatan laki-laki lebih besar dari tagihan kesehatan perempuan."
   ]
  },
  {
   "cell_type": "markdown",
   "id": "2413b713",
   "metadata": {},
   "source": [
    "## Penelitian yang Akan Datang"
   ]
  },
  {
   "cell_type": "markdown",
   "id": "3c87189c",
   "metadata": {},
   "source": [
    "Pada mini riset ini masih sangat sederhana, hanya dilakukan analisa korelasi dan uji hipotesa dengan t-test. Untuk menguji pengaruh variabel-variabel terhadap tagihan kesehatan dapat dilakukan analisa regresi sehingga diperoleh kesimpulan variabel-variabel yang berperan sebab-akibat terhadap variabel tagihan kesehatan."
   ]
  }
 ],
 "metadata": {
  "kernelspec": {
   "display_name": "Python 3 (ipykernel)",
   "language": "python",
   "name": "python3"
  },
  "language_info": {
   "codemirror_mode": {
    "name": "ipython",
    "version": 3
   },
   "file_extension": ".py",
   "mimetype": "text/x-python",
   "name": "python",
   "nbconvert_exporter": "python",
   "pygments_lexer": "ipython3",
   "version": "3.9.7"
  }
 },
 "nbformat": 4,
 "nbformat_minor": 5
}
